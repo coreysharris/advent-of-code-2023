{
 "cells": [
  {
   "cell_type": "code",
   "execution_count": 123,
   "metadata": {},
   "outputs": [
    {
     "name": "stdout",
     "output_type": "stream",
     "text": [
      "[('TQ5TT', '421'), ('65K2J', '973'), ('K543T', '50'), ('AT68Q', '952'), ('JKTTJ', '766'), ('55Q55', '860'), ('J9427', '977'), ('K36QA', '569'), ('TQQJ2', '710'), ('KK274', '900')]\n"
     ]
    }
   ],
   "source": [
    "filename = \"input.txt\"\n",
    "# filename = \"example.txt\"\n",
    "\n",
    "with open(filename, \"r\") as f:\n",
    "    input = f.readlines()\n",
    "\n",
    "hands = [tuple(line.split()) for line in input]\n",
    "print(hands[:10])"
   ]
  },
  {
   "cell_type": "markdown",
   "metadata": {},
   "source": [
    "# Part 1"
   ]
  },
  {
   "cell_type": "code",
   "execution_count": 124,
   "metadata": {},
   "outputs": [],
   "source": [
    "from collections import Counter\n",
    "\n",
    "def hand_type(h):\n",
    "    types = [(5,), (4,), (3,2), (3,), (2,2), (2,), (1,)]\n",
    "    count_counts = Counter(Counter(h).values())\n",
    "    def check_type(t):\n",
    "        return Counter(t) <= count_counts\n",
    "    for i, t in enumerate(types):\n",
    "        if check_type(t):\n",
    "            return i\n",
    "    \n",
    "values =         'AKQJT98765432'\n",
    "value_ordering = 'ABCDEFGHIJKLM'\n",
    "o = {v: i for v, i in zip(values, value_ordering)}\n",
    "def val_to_ordering(h):\n",
    "    return ''.join([o[c] for c in h])"
   ]
  },
  {
   "cell_type": "code",
   "execution_count": 125,
   "metadata": {},
   "outputs": [],
   "source": [
    "def hand_cmp(hand):\n",
    "    h, _ = hand\n",
    "    return (hand_type(h), val_to_ordering(h))\n",
    "\n",
    "def score_hands(hands):\n",
    "    total = 0\n",
    "    for i, hand in enumerate(sorted(hands, key=hand_cmp)):\n",
    "        # print(i, hand)\n",
    "        total += (len(hands)-i) * int(hand[1])\n",
    "    print(total)"
   ]
  },
  {
   "cell_type": "code",
   "execution_count": 126,
   "metadata": {},
   "outputs": [
    {
     "name": "stdout",
     "output_type": "stream",
     "text": [
      "248812215\n"
     ]
    }
   ],
   "source": [
    "score_hands(hands)"
   ]
  },
  {
   "cell_type": "markdown",
   "metadata": {},
   "source": [
    "# Part 2"
   ]
  },
  {
   "cell_type": "code",
   "execution_count": 127,
   "metadata": {},
   "outputs": [],
   "source": [
    "def hand_type(h):\n",
    "    c = Counter(h)\n",
    "    counts = [v for k,v in c.items() if k != 'J']\n",
    "    jcount = c.get('J', 0)\n",
    "    if len(counts) == 0 or (jcount + max(counts) == 5):\n",
    "        return 0\n",
    "    elif jcount + max(counts) == 4:\n",
    "        return 1\n",
    "    elif (3 in counts and 2 in counts) or (Counter(counts).get(2, 0) == 2 and jcount == 1):\n",
    "        return 2\n",
    "    elif jcount + max(counts) == 3:\n",
    "        return 3\n",
    "    elif Counter(counts).get(2, 0) == 2:\n",
    "        return 4\n",
    "    elif 2 in counts or 'J' in c:\n",
    "        return 5\n",
    "    else:\n",
    "        return 6\n",
    "    \n",
    "values =         'AKQT98765432J'\n",
    "value_ordering = 'ABCDEFGHIJKLM'\n",
    "o = {v: i for v, i in zip(values, value_ordering)}\n",
    "def val_to_ordering(h):\n",
    "    return ''.join([o[c] for c in h])\n"
   ]
  },
  {
   "cell_type": "code",
   "execution_count": 128,
   "metadata": {},
   "outputs": [
    {
     "name": "stdout",
     "output_type": "stream",
     "text": [
      "250057090\n"
     ]
    }
   ],
   "source": [
    "score_hands(hands)"
   ]
  }
 ],
 "metadata": {
  "interpreter": {
   "hash": "31f2aee4e71d21fbe5cf8b01ff0e069b9275f58929596ceb00d14d90e3e16cd6"
  },
  "kernelspec": {
   "display_name": "Python 3.8.9 64-bit",
   "language": "python",
   "name": "python3"
  },
  "language_info": {
   "codemirror_mode": {
    "name": "ipython",
    "version": 3
   },
   "file_extension": ".py",
   "mimetype": "text/x-python",
   "name": "python",
   "nbconvert_exporter": "python",
   "pygments_lexer": "ipython3",
   "version": "3.10.12"
  },
  "orig_nbformat": 4
 },
 "nbformat": 4,
 "nbformat_minor": 2
}
