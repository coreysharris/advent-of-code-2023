{
 "cells": [
  {
   "cell_type": "code",
   "execution_count": 103,
   "metadata": {},
   "outputs": [],
   "source": [
    "filename = \"input.txt\"\n",
    "# filename = \"example1.txt\"\n",
    "\n",
    "with open(filename, \"r\") as f:\n",
    "    input = f.read()\n",
    "\n",
    "patterns = [p.split() for p in input.split('\\n\\n')]\n",
    "# print(patterns)"
   ]
  },
  {
   "cell_type": "markdown",
   "metadata": {},
   "source": [
    "# Part 1"
   ]
  },
  {
   "cell_type": "code",
   "execution_count": 104,
   "metadata": {},
   "outputs": [],
   "source": [
    "def verify_horiz_refl(pattern, last_line):\n",
    "    num_rows_to_check = min(last_line+1, len(pattern)-last_line-1)\n",
    "    for i in range(num_rows_to_check):\n",
    "        if pattern[last_line-i] != pattern[last_line+1+i]:\n",
    "            return False\n",
    "    return True\n",
    "\n",
    "def horiz_refl(pattern):\n",
    "    for i in range(len(pattern)-1):\n",
    "        if pattern[i] == pattern[i+1] and verify_horiz_refl(pattern, i):\n",
    "            return i+1  # num rows above line of refl\n",
    "    return None\n",
    "\n",
    "def transpose(pattern):\n",
    "    new_pattern = [[] for _ in range(len(pattern[0]))]\n",
    "    for r, row in enumerate(pattern):\n",
    "        for c, x in enumerate(row):\n",
    "            new_pattern[c].append(x)\n",
    "    return new_pattern\n",
    "\n",
    "def refl_value(pattern):\n",
    "    if (h:=horiz_refl(pattern)) is not None:\n",
    "        return 100*h\n",
    "    if (v:=horiz_refl(transpose(pattern))) is not None:\n",
    "        return v\n",
    "\n",
    "def solution(patterns):\n",
    "    return sum([refl_value(pattern) for pattern in patterns])"
   ]
  },
  {
   "cell_type": "code",
   "execution_count": 105,
   "metadata": {},
   "outputs": [
    {
     "data": {
      "text/plain": [
       "33047"
      ]
     },
     "execution_count": 105,
     "metadata": {},
     "output_type": "execute_result"
    }
   ],
   "source": [
    "solution(patterns)"
   ]
  },
  {
   "cell_type": "markdown",
   "metadata": {},
   "source": [
    "# Part 2"
   ]
  },
  {
   "cell_type": "code",
   "execution_count": 106,
   "metadata": {},
   "outputs": [],
   "source": [
    "flip = {'.': '#', '#': '.'}\n",
    "def smudges(pattern):\n",
    "    for r,row in enumerate(pattern):\n",
    "        for c,x in enumerate(row):\n",
    "            new_pattern = [[val_ for val_ in row_] for row_ in pattern]\n",
    "            new_pattern[r][c] = flip[x]\n",
    "            new_pattern = [''.join(row_) for row_ in new_pattern]\n",
    "            yield new_pattern"
   ]
  },
  {
   "cell_type": "code",
   "execution_count": 109,
   "metadata": {},
   "outputs": [],
   "source": [
    "def verify_horiz_refl(pattern, last_line):\n",
    "    num_rows_to_check = min(last_line+1, len(pattern)-last_line-1)\n",
    "    for i in range(num_rows_to_check):\n",
    "        if pattern[last_line-i] != pattern[last_line+1+i]:\n",
    "            return False\n",
    "    return True\n",
    "\n",
    "def horiz_refl2(pattern, orig_value):\n",
    "    for i in range(len(pattern)-1):\n",
    "        if i+1 == orig_value:\n",
    "            continue\n",
    "        if pattern[i] == pattern[i+1] and verify_horiz_refl(pattern, i):\n",
    "            return i+1  # num rows above line of refl\n",
    "    return None\n",
    "\n",
    "def transpose(pattern):\n",
    "    new_pattern = [[] for _ in range(len(pattern[0]))]\n",
    "    for r, row in enumerate(pattern):\n",
    "        for c, x in enumerate(row):\n",
    "            new_pattern[c].append(x)\n",
    "    return new_pattern\n",
    "\n",
    "def refl_value2(pattern, orig_value):\n",
    "    if (h:=horiz_refl2(pattern, orig_value / 100)) is not None:\n",
    "        return 100*h\n",
    "    if (v:=horiz_refl2(transpose(pattern), orig_value)) is not None:\n",
    "        return v"
   ]
  },
  {
   "cell_type": "code",
   "execution_count": 110,
   "metadata": {},
   "outputs": [],
   "source": [
    "\n",
    "def smudge_value(pattern):\n",
    "    orig_value = refl_value(pattern)\n",
    "    for smudge in smudges(pattern):\n",
    "        if (rv:=refl_value2(smudge, orig_value)) is not None:\n",
    "            return rv\n",
    "\n",
    "def solution(patterns):\n",
    "    return sum([smudge_value(pattern) for pattern in patterns])"
   ]
  },
  {
   "cell_type": "code",
   "execution_count": 111,
   "metadata": {},
   "outputs": [
    {
     "data": {
      "text/plain": [
       "28806"
      ]
     },
     "execution_count": 111,
     "metadata": {},
     "output_type": "execute_result"
    }
   ],
   "source": [
    "solution(patterns)"
   ]
  }
 ],
 "metadata": {
  "interpreter": {
   "hash": "31f2aee4e71d21fbe5cf8b01ff0e069b9275f58929596ceb00d14d90e3e16cd6"
  },
  "kernelspec": {
   "display_name": "Python 3.8.9 64-bit",
   "language": "python",
   "name": "python3"
  },
  "language_info": {
   "codemirror_mode": {
    "name": "ipython",
    "version": 3
   },
   "file_extension": ".py",
   "mimetype": "text/x-python",
   "name": "python",
   "nbconvert_exporter": "python",
   "pygments_lexer": "ipython3",
   "version": "3.10.12"
  },
  "orig_nbformat": 4
 },
 "nbformat": 4,
 "nbformat_minor": 2
}
