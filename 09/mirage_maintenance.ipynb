{
 "cells": [
  {
   "cell_type": "code",
   "execution_count": 1,
   "metadata": {},
   "outputs": [],
   "source": [
    "import re\n",
    "\n",
    "def ints_in_line(s):\n",
    "    return list(map(int, re.findall(r\"-?\\d+\", s)))"
   ]
  },
  {
   "cell_type": "code",
   "execution_count": 2,
   "metadata": {},
   "outputs": [
    {
     "name": "stdout",
     "output_type": "stream",
     "text": [
      "[[8, 27, 61, 121, 232, 446, 858, 1625, 2988, 5297, 9039, 14869, 23644, 36460, 54692, 80037, 114560, 160743, 221537, 300417, 401440], [8, 8, 3, -9, -26, -26, 63, 410, 1348, 3464, 7715, 15573, 29202, 51670, 87199, 141456, 221888, 338104, 502307, 729779, 1039422]]\n"
     ]
    }
   ],
   "source": [
    "filename = \"input.txt\"\n",
    "# filename = \"example.txt\"\n",
    "\n",
    "with open(filename, \"r\") as f:\n",
    "    input = f.readlines()\n",
    "\n",
    "reports = list(map(ints_in_line, input))\n",
    "print(reports[:2])"
   ]
  },
  {
   "cell_type": "markdown",
   "metadata": {},
   "source": [
    "# Part 1"
   ]
  },
  {
   "cell_type": "code",
   "execution_count": 3,
   "metadata": {},
   "outputs": [],
   "source": [
    "import numpy\n",
    "\n",
    "def get_history(rep):\n",
    "    new_rep = [a for a in rep]\n",
    "    diffs = [new_rep]\n",
    "    while not all([a==0 for a in diffs[-1]]):\n",
    "        diffs.append(list(numpy.diff(diffs[-1])))\n",
    "\n",
    "    for i in range(1,len(diffs)):\n",
    "        diffs[-i-1].append(diffs[-i][-1] + diffs[-i-1][-1])\n",
    "    return diffs[0][-1]\n",
    "\n",
    "def all_histories(reps):\n",
    "    return [get_history(rep) for rep in reps]"
   ]
  },
  {
   "cell_type": "code",
   "execution_count": 4,
   "metadata": {},
   "outputs": [
    {
     "data": {
      "text/plain": [
       "1819125966"
      ]
     },
     "execution_count": 4,
     "metadata": {},
     "output_type": "execute_result"
    }
   ],
   "source": [
    "sum(all_histories(reports))"
   ]
  },
  {
   "cell_type": "markdown",
   "metadata": {},
   "source": [
    "# Part 2"
   ]
  },
  {
   "cell_type": "code",
   "execution_count": 7,
   "metadata": {},
   "outputs": [],
   "source": [
    "from collections import deque\n",
    "\n",
    "def get_prehistory(rep):\n",
    "    new_rep = deque([a for a in rep])\n",
    "    diffs = [new_rep]\n",
    "    while not all([a==0 for a in diffs[-1]]):\n",
    "        diffs.append(deque(numpy.diff(diffs[-1])))\n",
    "\n",
    "    for i in range(1,len(diffs)):\n",
    "        diffs[-i-1].appendleft((diffs[-i-1][0]-diffs[-i][0]))\n",
    "    return diffs[0][0]\n",
    "\n",
    "def all_prehistories(reps):\n",
    "    return [get_prehistory(rep) for rep in reps]"
   ]
  },
  {
   "cell_type": "code",
   "execution_count": 8,
   "metadata": {},
   "outputs": [
    {
     "data": {
      "text/plain": [
       "1140"
      ]
     },
     "execution_count": 8,
     "metadata": {},
     "output_type": "execute_result"
    }
   ],
   "source": [
    "sum(all_prehistories(reports))"
   ]
  }
 ],
 "metadata": {
  "interpreter": {
   "hash": "31f2aee4e71d21fbe5cf8b01ff0e069b9275f58929596ceb00d14d90e3e16cd6"
  },
  "kernelspec": {
   "display_name": "Python 3.8.9 64-bit",
   "language": "python",
   "name": "python3"
  },
  "language_info": {
   "codemirror_mode": {
    "name": "ipython",
    "version": 3
   },
   "file_extension": ".py",
   "mimetype": "text/x-python",
   "name": "python",
   "nbconvert_exporter": "python",
   "pygments_lexer": "ipython3",
   "version": "3.10.12"
  },
  "orig_nbformat": 4
 },
 "nbformat": 4,
 "nbformat_minor": 2
}
