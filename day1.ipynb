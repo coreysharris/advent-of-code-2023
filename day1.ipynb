{
 "cells": [
  {
   "cell_type": "code",
   "execution_count": null,
   "metadata": {},
   "outputs": [],
   "source": [
    "with open(\"day1_input.txt\", \"r\") as f:\n",
    "    lines = f.readlines()\n",
    "print(lines[0])"
   ]
  },
  {
   "cell_type": "markdown",
   "metadata": {},
   "source": [
    "# Part 1"
   ]
  },
  {
   "cell_type": "code",
   "execution_count": null,
   "metadata": {},
   "outputs": [],
   "source": [
    "sum = 0\n",
    "for line in lines:\n",
    "    digits = [c for c in line if c in \"0123456789\"]\n",
    "    val = int(digits[0] + digits[-1])\n",
    "    sum += val\n",
    "    \n",
    "sum         \n",
    "    "
   ]
  },
  {
   "cell_type": "markdown",
   "metadata": {},
   "source": [
    "# Part 2"
   ]
  },
  {
   "cell_type": "code",
   "execution_count": null,
   "metadata": {},
   "outputs": [],
   "source": [
    "d = {\n",
    "    \"one\": 1,\n",
    "    \"two\": 2,\n",
    "    \"three\": 3,\n",
    "    \"four\": 4,\n",
    "    \"five\": 5,\n",
    "    \"six\": 6,\n",
    "    \"seven\": 7,\n",
    "    \"eight\": 8,\n",
    "    \"nine\": 9,\n",
    "    # \"zero\": 0,\n",
    "}"
   ]
  },
  {
   "cell_type": "code",
   "execution_count": null,
   "metadata": {},
   "outputs": [],
   "source": [
    "sum = 0\n",
    "for line in lines:\n",
    "    first = \"\"\n",
    "    last = \"\"\n",
    "    for i in range(len(line)):\n",
    "        for k,v in d.items():\n",
    "            if str(v) in line[:i] or k in line[:i]:\n",
    "                first = v\n",
    "                break\n",
    "        if first: break\n",
    "    for i in range(len(line)):\n",
    "        for k,v in d.items():\n",
    "            if str(v) in line[-i-1:] or k in line[-i-1:]:\n",
    "                last = v\n",
    "                break\n",
    "        if last: break\n",
    "    sum += first*10 +last\n",
    "sum"
   ]
  }
 ],
 "metadata": {
  "interpreter": {
   "hash": "31f2aee4e71d21fbe5cf8b01ff0e069b9275f58929596ceb00d14d90e3e16cd6"
  },
  "kernelspec": {
   "display_name": "Python 3.8.9 64-bit",
   "language": "python",
   "name": "python3"
  },
  "language_info": {
   "codemirror_mode": {
    "name": "ipython",
    "version": 3
   },
   "file_extension": ".py",
   "mimetype": "text/x-python",
   "name": "python",
   "nbconvert_exporter": "python",
   "pygments_lexer": "ipython3",
   "version": "3.10.12"
  },
  "orig_nbformat": 4
 },
 "nbformat": 4,
 "nbformat_minor": 2
}
