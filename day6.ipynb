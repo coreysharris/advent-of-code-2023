{
 "cells": [
  {
   "cell_type": "code",
   "execution_count": 1,
   "metadata": {},
   "outputs": [],
   "source": [
    "import re\n",
    "\n",
    "def ints_in_line(s):\n",
    "    return list(map(int, re.findall(r\"\\d+\", s)))"
   ]
  },
  {
   "cell_type": "code",
   "execution_count": 22,
   "metadata": {},
   "outputs": [
    {
     "data": {
      "text/plain": [
       "[(49, 263), (97, 1532), (94, 1378), (94, 1851)]"
      ]
     },
     "execution_count": 22,
     "metadata": {},
     "output_type": "execute_result"
    }
   ],
   "source": [
    "filename = \"day6_input.txt\"\n",
    "# filename = \"day6_example.txt\"\n",
    "\n",
    "with open(filename, \"r\") as f:\n",
    "    input = f.readlines()\n",
    "\n",
    "times = ints_in_line(input[0].split(':')[1])\n",
    "dists = ints_in_line(input[1].split(':')[1])\n",
    "pairs = [(t,d) for t,d in zip(times, dists)]\n",
    "pairs"
   ]
  },
  {
   "cell_type": "markdown",
   "metadata": {},
   "source": [
    "# Part 1"
   ]
  },
  {
   "cell_type": "code",
   "execution_count": 23,
   "metadata": {},
   "outputs": [],
   "source": [
    "def ways_to_win(time, dist):\n",
    "    count = 0\n",
    "    for i in range(time):\n",
    "        if (i * (time-i)) > dist:\n",
    "            count += 1\n",
    "    return count"
   ]
  },
  {
   "cell_type": "code",
   "execution_count": 24,
   "metadata": {},
   "outputs": [
    {
     "name": "stdout",
     "output_type": "stream",
     "text": [
      "36\n",
      "58\n",
      "57\n",
      "37\n",
      "4403592\n"
     ]
    }
   ],
   "source": [
    "product = 1\n",
    "for pair in pairs:\n",
    "    w = ways_to_win(*pair)\n",
    "    print(w)\n",
    "    product *= w\n",
    "print(product)"
   ]
  },
  {
   "cell_type": "markdown",
   "metadata": {},
   "source": [
    "# Part 2"
   ]
  },
  {
   "cell_type": "code",
   "execution_count": 27,
   "metadata": {},
   "outputs": [
    {
     "data": {
      "text/plain": [
       "38017587"
      ]
     },
     "execution_count": 27,
     "metadata": {},
     "output_type": "execute_result"
    }
   ],
   "source": [
    "t = int(''.join([str(t) for t in times]))\n",
    "d = int(''.join([str(d) for d in dists]))\n",
    "ways_to_win(t, d)"
   ]
  }
 ],
 "metadata": {
  "interpreter": {
   "hash": "31f2aee4e71d21fbe5cf8b01ff0e069b9275f58929596ceb00d14d90e3e16cd6"
  },
  "kernelspec": {
   "display_name": "Python 3.8.9 64-bit",
   "language": "python",
   "name": "python3"
  },
  "language_info": {
   "codemirror_mode": {
    "name": "ipython",
    "version": 3
   },
   "file_extension": ".py",
   "mimetype": "text/x-python",
   "name": "python",
   "nbconvert_exporter": "python",
   "pygments_lexer": "ipython3",
   "version": "3.10.12"
  },
  "orig_nbformat": 4
 },
 "nbformat": 4,
 "nbformat_minor": 2
}
