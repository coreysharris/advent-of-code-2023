{
 "cells": [
  {
   "cell_type": "code",
   "execution_count": 13,
   "metadata": {},
   "outputs": [],
   "source": [
    "import re\n",
    "\n",
    "def ints_in_line(s):\n",
    "    return list(map(int, re.findall(r\"\\d+\", s)))"
   ]
  },
  {
   "cell_type": "code",
   "execution_count": 78,
   "metadata": {},
   "outputs": [
    {
     "name": "stdout",
     "output_type": "stream",
     "text": [
      "[['seeds: 3139431799 50198205 3647185634 110151761 2478641666 139825503 498892555 8913570 961540761 489996751 568452082 100080382 907727477 42158689 1617552130 312026427 342640189 97088268 2049289560 336766062'], ['seed-to-soil map:', '1615836342 1401909974 23067952', '785532007 269485885 88937774', '3019002892 2773729385 10470414', '4202163101 2747292152 26437233', '3183210415 4217634159 77333137', '2847460091 3211730218 136699600', '2455891790 3791729773 70553041', '3260543552 2581343101 165949051', '3840286095 2849853212 361877006', '4228600334 2361239030 66366962', '1594559581 1077839137 21276761', '380069408 165017790 44262617', '3598718222 1894384162 241567873', '0 1424977926 190757551', '1894384162 2810496375 39356837', '424332025 606264721 196539291', '3521487829 2221977524 77230393', '742681934 69797365 36566707', '1638904294 1615735477 139190145', '1335949488 0 69797365', '779248641 802804012 6283366', '2638766896 4008940964 208693195', '250963029 1142644585 70452661', '1933740999 3470280789 321448984', '190757551 209280407 60205478', '1778094439 1099115898 43528687', '2255189983 3348429818 121850971', '1000500225 809087378 268751759', '1269251984 1754925622 66697504', '874469781 358423659 126030444', '2526444831 2135952035 86025489', '2439072067 3992121241 16819723', '3426492603 3897126015 94995226', '1405746853 1213097246 188812728', '321415690 106364072 58653718', '2984159691 3862282814 34843201', '2377040954 2299207917 62031113', '3029473306 2427605992 153737109', '2612470320 2784199799 26296576', '620871316 484454103 121810618']]\n"
     ]
    }
   ],
   "source": [
    "filename = \"day5_input.txt\"\n",
    "# filename = \"day5_example.txt\"\n",
    "\n",
    "with open(filename, \"r\") as f:\n",
    "    lines = f.read().split(\"\\n\\n\")\n",
    "lines = [[s.strip() for s in l.split(\"\\n\") if s] for l in lines]\n",
    "\n",
    "print(lines[:2])"
   ]
  },
  {
   "cell_type": "markdown",
   "metadata": {},
   "source": [
    "# Part 1"
   ]
  },
  {
   "cell_type": "code",
   "execution_count": 63,
   "metadata": {},
   "outputs": [],
   "source": [
    "seeds = ints_in_line(lines[0][0])\n",
    "lines = lines[1:]"
   ]
  },
  {
   "cell_type": "code",
   "execution_count": 65,
   "metadata": {},
   "outputs": [],
   "source": [
    "def parse_map(ary):\n",
    "    source, target = re.findall(\"(\\w+)-to-(\\w+) map:\", ary[0])[0]\n",
    "    triples = [ints_in_line(a) for a in ary[1:]]\n",
    "    return (source, target, triples)\n",
    "\n",
    "almanac = dict()\n",
    "for line in lines:\n",
    "    source, target, ranges = parse_map(line)\n",
    "    d = dict()\n",
    "    d['target'] = target\n",
    "    d['ranges'] = [(s_start, t_start, span) for t_start, s_start, span in ranges]\n",
    "    almanac[source] = d"
   ]
  },
  {
   "cell_type": "code",
   "execution_count": 67,
   "metadata": {},
   "outputs": [],
   "source": [
    "def get_target_location(source_value, ranges):\n",
    "    for s_start, t_start, span in ranges:\n",
    "        if s_start <= source_value < s_start + span:\n",
    "            return t_start + (source_value-s_start)\n",
    "    return source_value"
   ]
  },
  {
   "cell_type": "code",
   "execution_count": 68,
   "metadata": {},
   "outputs": [
    {
     "name": "stdout",
     "output_type": "stream",
     "text": [
      "462648396\n"
     ]
    }
   ],
   "source": [
    "locations = []\n",
    "for seed in seeds:\n",
    "    current_value = seed\n",
    "    current_type = 'seed'\n",
    "    while current_type != 'location':\n",
    "        current_value = get_target_location(current_value, almanac[current_type]['ranges'])\n",
    "        current_type = almanac[current_type]['target']\n",
    "    locations.append(current_value)\n",
    "print(min(locations))"
   ]
  },
  {
   "cell_type": "markdown",
   "metadata": {},
   "source": [
    "# Part 2"
   ]
  },
  {
   "cell_type": "code",
   "execution_count": 70,
   "metadata": {},
   "outputs": [],
   "source": [
    "seed_pairs = []\n",
    "temp_seeds = [s for s in seeds]\n",
    "while temp_seeds:\n",
    "    a,b = temp_seeds[:2]\n",
    "    seed_pairs.append((a,b))\n",
    "    temp_seeds = temp_seeds[2:]"
   ]
  },
  {
   "cell_type": "code",
   "execution_count": 71,
   "metadata": {},
   "outputs": [
    {
     "data": {
      "text/plain": [
       "[(3139431799, 50198205),\n",
       " (3647185634, 110151761),\n",
       " (2478641666, 139825503),\n",
       " (498892555, 8913570),\n",
       " (961540761, 489996751),\n",
       " (568452082, 100080382),\n",
       " (907727477, 42158689),\n",
       " (1617552130, 312026427),\n",
       " (342640189, 97088268),\n",
       " (2049289560, 336766062)]"
      ]
     },
     "execution_count": 71,
     "metadata": {},
     "output_type": "execute_result"
    }
   ],
   "source": [
    "seed_pairs"
   ]
  },
  {
   "cell_type": "code",
   "execution_count": 73,
   "metadata": {},
   "outputs": [],
   "source": [
    "def get_target_location_ranges(source_start, source_span, ranges):\n",
    "    lower_ranges = [r for r in ranges if r[0] <= source_start]\n",
    "    if lower_ranges:\n",
    "        max_lower_range = max(lower_ranges, key=lambda r: r[0])\n",
    "        upper_end_of_range = max_lower_range[0] + max_lower_range[2]\n",
    "    else:\n",
    "        upper_end_of_range = 0\n",
    "\n",
    "    if upper_end_of_range > source_start:\n",
    "        if source_start+source_span <= upper_end_of_range:\n",
    "            return [(source_start+max_lower_range[1]-max_lower_range[0], source_span)]\n",
    "        else:\n",
    "            return ([(source_start+max_lower_range[1]-max_lower_range[0], upper_end_of_range-source_start)]\n",
    "                    + get_target_location_ranges(upper_end_of_range, source_span-(upper_end_of_range-source_start), ranges))\n",
    "\n",
    "    upper_ranges = [r for r in ranges if r[0] >= source_start]\n",
    "    if upper_ranges:\n",
    "        min_upper_range = min(upper_ranges, key=lambda r: r[0])\n",
    "        upper_end_of_range = min_upper_range[0] + min_upper_range[2]\n",
    "    else:\n",
    "        return [(source_start, source_span)]\n",
    "    if min_upper_range[0] <= source_start + source_span:\n",
    "        if source_start+source_span < upper_end_of_range:\n",
    "            return [(source_start, min_upper_range[0]-source_start)] + [(min_upper_range[1], source_span-(min_upper_range[0]-source_start))]\n",
    "        else:\n",
    "            return [(source_start, min_upper_range[0]-source_start)] + [(min_upper_range[1], source_span-(min_upper_range[0]-source_start))] + get_target_location_ranges(upper_end_of_range, source_span-(upper_end_of_range-source_start), ranges)\n",
    "\n",
    "    return [(source_start, source_span)]\n"
   ]
  },
  {
   "cell_type": "code",
   "execution_count": 74,
   "metadata": {},
   "outputs": [],
   "source": [
    "current_ranges = seed_pairs\n",
    "current_type = 'seed'\n",
    "while current_type != 'location':\n",
    "    new_ranges = []\n",
    "    for source_start, source_span in current_ranges:\n",
    "        new_ranges.extend(get_target_location_ranges(source_start, source_span, almanac[current_type]['ranges']))\n",
    "    current_type = almanac[current_type]['target']\n",
    "    current_ranges = new_ranges"
   ]
  },
  {
   "cell_type": "code",
   "execution_count": 81,
   "metadata": {},
   "outputs": [
    {
     "name": "stdout",
     "output_type": "stream",
     "text": [
      "number of locations: 1687205618\n",
      "lowest location: 2520479\n"
     ]
    }
   ],
   "source": [
    "print(f\"number of locations: {sum([sp for _, sp in current_ranges])}\")\n",
    "print(f\"lowest location: {min([st for st, _ in current_ranges])}\")"
   ]
  }
 ],
 "metadata": {
  "interpreter": {
   "hash": "31f2aee4e71d21fbe5cf8b01ff0e069b9275f58929596ceb00d14d90e3e16cd6"
  },
  "kernelspec": {
   "display_name": "Python 3.8.9 64-bit",
   "language": "python",
   "name": "python3"
  },
  "language_info": {
   "codemirror_mode": {
    "name": "ipython",
    "version": 3
   },
   "file_extension": ".py",
   "mimetype": "text/x-python",
   "name": "python",
   "nbconvert_exporter": "python",
   "pygments_lexer": "ipython3",
   "version": "3.10.12"
  },
  "orig_nbformat": 4
 },
 "nbformat": 4,
 "nbformat_minor": 2
}
