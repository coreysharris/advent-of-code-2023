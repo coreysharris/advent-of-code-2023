{
 "cells": [
  {
   "cell_type": "code",
   "execution_count": 84,
   "metadata": {},
   "outputs": [],
   "source": [
    "import re\n",
    "\n",
    "def ints_in_line(s):\n",
    "    return list(map(int, re.findall(r\"\\d+\", s)))"
   ]
  },
  {
   "cell_type": "code",
   "execution_count": 85,
   "metadata": {},
   "outputs": [
    {
     "name": "stdout",
     "output_type": "stream",
     "text": [
      "Card   1: 26 36 90  2 75 32  3 21 59 18 | 47 97 83 82 43  7 61 73 57  2 67 31 69 11 44 38 23 52 10 21 45 36 86 49 14\n",
      "\n",
      "[[26, 36, 90, 2, 75, 32, 3, 21, 59, 18], [47, 97, 83, 82, 43, 7, 61, 73, 57, 2, 67, 31, 69, 11, 44, 38, 23, 52, 10, 21, 45, 36, 86, 49, 14]]\n"
     ]
    }
   ],
   "source": [
    "filename = \"day4_input.txt\"\n",
    "# filename = \"day4_example.txt\"\n",
    "\n",
    "with open(filename, \"r\") as f:\n",
    "    lines = f.readlines()\n",
    "print(lines[0])\n",
    "cards = [list(map(lambda l: l.strip(),\n",
    "                  line.split(\":\")[1].split(\"|\"))) for line in lines]\n",
    "cards = [list(map(ints_in_line, l)) for l in cards]\n",
    "print(cards[0])"
   ]
  },
  {
   "cell_type": "markdown",
   "metadata": {},
   "source": [
    "# Part 1"
   ]
  },
  {
   "cell_type": "code",
   "execution_count": 86,
   "metadata": {},
   "outputs": [],
   "source": [
    "def score(winning_numbers, my_numbers):\n",
    "    count = 0\n",
    "    for n in winning_numbers:\n",
    "        if n in my_numbers:\n",
    "            count += 1\n",
    "    if count == 0:\n",
    "        return 0\n",
    "    return 2**(count-1)"
   ]
  },
  {
   "cell_type": "code",
   "execution_count": 87,
   "metadata": {},
   "outputs": [
    {
     "name": "stdout",
     "output_type": "stream",
     "text": [
      "21213\n"
     ]
    }
   ],
   "source": [
    "print(sum([score(*card) for card in cards]))\n"
   ]
  },
  {
   "cell_type": "markdown",
   "metadata": {},
   "source": [
    "# Part 2"
   ]
  },
  {
   "cell_type": "code",
   "execution_count": 88,
   "metadata": {},
   "outputs": [],
   "source": [
    "def score(winning_numbers, my_numbers):\n",
    "    count = 0\n",
    "    for n in winning_numbers:\n",
    "        if n in my_numbers:\n",
    "            count += 1\n",
    "    return count"
   ]
  },
  {
   "cell_type": "code",
   "execution_count": 89,
   "metadata": {},
   "outputs": [
    {
     "name": "stdout",
     "output_type": "stream",
     "text": [
      "8549735\n"
     ]
    }
   ],
   "source": [
    "card_counts = [1 for card in cards]\n",
    "\n",
    "for i, card in enumerate(cards):\n",
    "    score_ = score(*card)\n",
    "    for j in range(score_):\n",
    "        card_counts[i+j+1] += card_counts[i]\n",
    "\n",
    "print(sum(card_counts))"
   ]
  }
 ],
 "metadata": {
  "interpreter": {
   "hash": "31f2aee4e71d21fbe5cf8b01ff0e069b9275f58929596ceb00d14d90e3e16cd6"
  },
  "kernelspec": {
   "display_name": "Python 3.8.9 64-bit",
   "language": "python",
   "name": "python3"
  },
  "language_info": {
   "codemirror_mode": {
    "name": "ipython",
    "version": 3
   },
   "file_extension": ".py",
   "mimetype": "text/x-python",
   "name": "python",
   "nbconvert_exporter": "python",
   "pygments_lexer": "ipython3",
   "version": "3.10.12"
  },
  "orig_nbformat": 4
 },
 "nbformat": 4,
 "nbformat_minor": 2
}
