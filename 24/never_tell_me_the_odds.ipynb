{
 "cells": [
  {
   "cell_type": "code",
   "execution_count": 1,
   "metadata": {},
   "outputs": [],
   "source": [
    "import re\n",
    "\n",
    "def ints_in_line(s):\n",
    "    return list(map(int, re.findall(r\"-?\\d+\", s)))"
   ]
  },
  {
   "cell_type": "code",
   "execution_count": 2,
   "metadata": {},
   "outputs": [
    {
     "name": "stdout",
     "output_type": "stream",
     "text": [
      "[Trajectory(p=Position(x=368925240582247, y=337542061908847, z=298737178993847), v=Velocity(x=21, y=-126, z=-9)), Trajectory(p=Position(x=287668477092999, y=306868689869154, z=240173335647821), v=Velocity(x=-21, y=-15, z=29)), Trajectory(p=Position(x=172063062341522, y=378381220662744, z=223621999511007), v=Velocity(x=-25, y=-38, z=-64)), Trajectory(p=Position(x=173207142739382, y=380138705823962, z=212955454913987), v=Velocity(x=161, y=-145, z=90)), Trajectory(p=Position(x=247022614384315, y=185370784055125, z=147179140524802), v=Velocity(x=-69, y=522, z=316))]\n"
     ]
    }
   ],
   "source": [
    "filename = \"input.txt\"\n",
    "# filename = \"example1.txt\"\n",
    "\n",
    "with open(filename, \"r\") as f:\n",
    "    input_ = f.readlines()\n",
    "\n",
    "from collections import namedtuple\n",
    "\n",
    "Position = namedtuple('Position', ['x', 'y', 'z'])\n",
    "Velocity = namedtuple('Velocity', ['x', 'y', 'z'])\n",
    "Trajectory = namedtuple('Trajectory', ['p', 'v'])\n",
    "\n",
    "numbers = [ints_in_line(l) for l in input_]\n",
    "vals = [Trajectory(Position(*v[:3]), Velocity(*v[3:])) for v in numbers]\n",
    "print(vals[:5])"
   ]
  },
  {
   "cell_type": "markdown",
   "metadata": {},
   "source": [
    "# Part 1"
   ]
  },
  {
   "cell_type": "code",
   "execution_count": 3,
   "metadata": {},
   "outputs": [],
   "source": [
    "from itertools import combinations"
   ]
  },
  {
   "cell_type": "code",
   "execution_count": 4,
   "metadata": {},
   "outputs": [],
   "source": [
    "\n",
    "import numpy as np\n",
    "\n",
    "def slope(trajectory):\n",
    "    if trajectory.v.x != 0:\n",
    "        return trajectory.v.y / trajectory.v.x\n",
    "    else:\n",
    "        return np.sign(trajectory.v.y) * np.inf\n",
    "\n",
    "def get_time(trajectory, p):\n",
    "    if trajectory.v.x != 0:\n",
    "        return (p.x - trajectory.p.x) / trajectory.v.x\n",
    "    else:\n",
    "        return (p.y - trajectory.p.y) / trajectory.v.y\n",
    "\n",
    "\n",
    "def intersection(traj1, traj2):\n",
    "    m1 = slope(traj1)\n",
    "    m2 = slope(traj2)\n",
    "    if m1 > m2:\n",
    "        # let traj1 have the smaller slope\n",
    "        traj1, traj2 = traj2, traj1\n",
    "        m1 = slope(traj1)\n",
    "        m2 = slope(traj2)\n",
    "    x1, y1 = traj1.p.x, traj1.p.y\n",
    "    x2, y2 = traj2.p.x, traj2.p.y\n",
    "    # if m1 == m2 or m1 == -m2:\n",
    "    #     return None\n",
    "    if m2 == np.inf:\n",
    "        return Position(x2, m1 * (x2-x1) + y1, None)\n",
    "    if m1 == m2 or m1 == -m2:\n",
    "        x = (x1 + x2) / 2\n",
    "    else:\n",
    "        x = ((y2 - m2*x2) - (y1 - m1*x1)) / (m1-m2)\n",
    "    return Position(x, m1 * (x-x1) + y1, None)\n",
    "\n"
   ]
  },
  {
   "cell_type": "code",
   "execution_count": 5,
   "metadata": {},
   "outputs": [],
   "source": [
    "LBOUND = 200000000000000\n",
    "UBOUND = 400000000000000\n",
    "\n",
    "def in_bounds(pos):\n",
    "    return LBOUND <= pos.x <= UBOUND and LBOUND <= pos.y <= UBOUND"
   ]
  },
  {
   "cell_type": "code",
   "execution_count": 6,
   "metadata": {},
   "outputs": [
    {
     "name": "stdout",
     "output_type": "stream",
     "text": [
      "15593\n"
     ]
    }
   ],
   "source": [
    "count = 0\n",
    "for t1,t2 in combinations(vals, 2):\n",
    "    i = intersection(t1, t2)\n",
    "    if i is None or not in_bounds(i):\n",
    "        continue\n",
    "    time1 = get_time(t1, i)\n",
    "    time2 = get_time(t2, i)\n",
    "    if time1 > 0 and time2 > 0:\n",
    "        count += 1\n",
    "print(count)\n",
    "\n",
    "\n"
   ]
  },
  {
   "cell_type": "markdown",
   "metadata": {},
   "source": [
    "# Part 2"
   ]
  },
  {
   "cell_type": "code",
   "execution_count": 7,
   "metadata": {},
   "outputs": [],
   "source": [
    "import sympy as sp\n",
    "from sympy import symbols\n",
    "\n",
    "num_t = 3  # 3 eqs gives a 9x9 system\n",
    "t = [symbols(f't{i}') for i in range(num_t)]\n",
    "px, py, pz, vx, vy, vz = symbols('px py pz vx vy vz')\n",
    "\n",
    "def soe_sym():\n",
    "    eqs = []\n",
    "    for i, traj in enumerate(vals[:num_t]):\n",
    "        # p + t * v = pi + t * vi\n",
    "        eqs.extend([\n",
    "            px + t[i]*(vx - traj.v.x) - traj.p.x,\n",
    "            py + t[i]*(vy - traj.v.y) - traj.p.y,\n",
    "            pz + t[i]*(vz - traj.v.z) - traj.p.z,\n",
    "        ])\n",
    "    return eqs\n"
   ]
  },
  {
   "cell_type": "code",
   "execution_count": 8,
   "metadata": {},
   "outputs": [
    {
     "data": {
      "text/plain": [
       "[{px: 155272940103072,\n",
       "  py: 386989974246822,\n",
       "  pz: 214769025967097,\n",
       "  t0: 932979478075,\n",
       "  t1: 488544416937,\n",
       "  t2: 61054989958,\n",
       "  vx: 250,\n",
       "  vy: -179,\n",
       "  vz: 81}]"
      ]
     },
     "execution_count": 8,
     "metadata": {},
     "output_type": "execute_result"
    }
   ],
   "source": [
    "eqs_sym = soe_sym()\n",
    "solution = sp.solve(eqs_sym)\n",
    "solution"
   ]
  },
  {
   "cell_type": "code",
   "execution_count": 9,
   "metadata": {},
   "outputs": [
    {
     "name": "stdout",
     "output_type": "stream",
     "text": [
      "757031940316991\n"
     ]
    }
   ],
   "source": [
    "s = solution[0]\n",
    "print(s[px] + s[py] + s[pz])"
   ]
  },
  {
   "cell_type": "code",
   "execution_count": 10,
   "metadata": {},
   "outputs": [
    {
     "name": "stdout",
     "output_type": "stream",
     "text": [
      "155272940103072 False\n",
      "386989974246822 True\n",
      "214769025967097 True\n"
     ]
    }
   ],
   "source": [
    "for x in [s[px], s[py], s[pz]]:\n",
    "    print(x, LBOUND <= x <= UBOUND)"
   ]
  },
  {
   "cell_type": "code",
   "execution_count": 11,
   "metadata": {},
   "outputs": [],
   "source": [
    "X = sp.Matrix(eqs_sym)\n",
    "Y = sp.Matrix([px,py,pz,vx,vy,vz,*t[:3]])\n",
    "J = X.jacobian(Y)"
   ]
  },
  {
   "cell_type": "code",
   "execution_count": 12,
   "metadata": {},
   "outputs": [
    {
     "data": {
      "text/latex": [
       "$\\displaystyle \\left[\\begin{matrix}1 & 0 & 0 & t_{0} & 0 & 0 & vx - 21 & 0 & 0\\\\0 & 1 & 0 & 0 & t_{0} & 0 & vy + 126 & 0 & 0\\\\0 & 0 & 1 & 0 & 0 & t_{0} & vz + 9 & 0 & 0\\\\1 & 0 & 0 & t_{1} & 0 & 0 & 0 & vx + 21 & 0\\\\0 & 1 & 0 & 0 & t_{1} & 0 & 0 & vy + 15 & 0\\\\0 & 0 & 1 & 0 & 0 & t_{1} & 0 & vz - 29 & 0\\\\1 & 0 & 0 & t_{2} & 0 & 0 & 0 & 0 & vx + 25\\\\0 & 1 & 0 & 0 & t_{2} & 0 & 0 & 0 & vy + 38\\\\0 & 0 & 1 & 0 & 0 & t_{2} & 0 & 0 & vz + 64\\end{matrix}\\right]$"
      ],
      "text/plain": [
       "Matrix([\n",
       "[1, 0, 0, t0,  0,  0,  vx - 21,       0,       0],\n",
       "[0, 1, 0,  0, t0,  0, vy + 126,       0,       0],\n",
       "[0, 0, 1,  0,  0, t0,   vz + 9,       0,       0],\n",
       "[1, 0, 0, t1,  0,  0,        0, vx + 21,       0],\n",
       "[0, 1, 0,  0, t1,  0,        0, vy + 15,       0],\n",
       "[0, 0, 1,  0,  0, t1,        0, vz - 29,       0],\n",
       "[1, 0, 0, t2,  0,  0,        0,       0, vx + 25],\n",
       "[0, 1, 0,  0, t2,  0,        0,       0, vy + 38],\n",
       "[0, 0, 1,  0,  0, t2,        0,       0, vz + 64]])"
      ]
     },
     "execution_count": 12,
     "metadata": {},
     "output_type": "execute_result"
    }
   ],
   "source": [
    "J"
   ]
  },
  {
   "cell_type": "code",
   "execution_count": null,
   "metadata": {},
   "outputs": [],
   "source": []
  }
 ],
 "metadata": {
  "interpreter": {
   "hash": "b7bb7be2cb5d4e8f1a78a37158366774c29942f331e47d04c2ec91199309067f"
  },
  "jupytext": {
   "formats": "ipynb,py:percent"
  },
  "kernelspec": {
   "display_name": "Python 3.10.12 64-bit ('3.10.12-std')",
   "language": "python",
   "name": "python3"
  },
  "language_info": {
   "codemirror_mode": {
    "name": "ipython",
    "version": 3
   },
   "file_extension": ".py",
   "mimetype": "text/x-python",
   "name": "python",
   "nbconvert_exporter": "python",
   "pygments_lexer": "ipython3",
   "version": "3.10.12"
  }
 },
 "nbformat": 4,
 "nbformat_minor": 2
}
