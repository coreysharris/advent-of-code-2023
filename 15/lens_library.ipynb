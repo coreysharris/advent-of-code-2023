{
 "cells": [
  {
   "cell_type": "code",
   "execution_count": 45,
   "metadata": {},
   "outputs": [],
   "source": [
    "filename = \"input.txt\"\n",
    "# filename = \"example1.txt\"\n",
    "\n",
    "with open(filename, \"r\") as f:\n",
    "    input = f.read()\n",
    "\n",
    "input = input.replace('\\n', '')\n",
    "words = [p.strip() for p in input.split(',')]"
   ]
  },
  {
   "cell_type": "markdown",
   "metadata": {},
   "source": [
    "# Part 1"
   ]
  },
  {
   "cell_type": "code",
   "execution_count": 46,
   "metadata": {},
   "outputs": [
    {
     "data": {
      "text/plain": [
       "52"
      ]
     },
     "execution_count": 46,
     "metadata": {},
     "output_type": "execute_result"
    }
   ],
   "source": [
    "def hash(word):\n",
    "    val = 0\n",
    "    for c in word:\n",
    "        val += ord(c)\n",
    "        val *= 17\n",
    "        val = val % 256\n",
    "    return val\n",
    "\n",
    "hash('HASH')"
   ]
  },
  {
   "cell_type": "code",
   "execution_count": 47,
   "metadata": {},
   "outputs": [
    {
     "data": {
      "text/plain": [
       "522547"
      ]
     },
     "execution_count": 47,
     "metadata": {},
     "output_type": "execute_result"
    }
   ],
   "source": [
    "sum([hash(word) for word in words])"
   ]
  },
  {
   "cell_type": "markdown",
   "metadata": {},
   "source": [
    "# Part 2"
   ]
  },
  {
   "cell_type": "code",
   "execution_count": 74,
   "metadata": {},
   "outputs": [],
   "source": [
    "import re\n",
    "labels = re.findall(r'(\\w+)([=-])(\\d*)', input)"
   ]
  },
  {
   "cell_type": "code",
   "execution_count": 77,
   "metadata": {},
   "outputs": [
    {
     "data": {
      "text/plain": [
       "229271"
      ]
     },
     "execution_count": 77,
     "metadata": {},
     "output_type": "execute_result"
    }
   ],
   "source": [
    "from collections import defaultdict\n",
    "\n",
    "def operate(label, boxes):\n",
    "    w, o, i = label\n",
    "    box = boxes[hash(w)]\n",
    "    if o == '=':\n",
    "        box[w] = int(i)\n",
    "    if o == '-' and w in box:\n",
    "        del box[w]\n",
    "\n",
    "def ingest(labels, boxes):\n",
    "    for label in labels:\n",
    "        operate(label, boxes)\n",
    "    return boxes\n",
    "\n",
    "def solve(labels):\n",
    "    boxes = defaultdict(dict)\n",
    "    ingest(labels, boxes)\n",
    "    s = 0\n",
    "    for box_num, box in boxes.items():\n",
    "        for k, (_, focal_length) in enumerate(box.items()):\n",
    "            s += (1+box_num) * (1+k) * focal_length\n",
    "    return s\n",
    "\n",
    "solve(labels)"
   ]
  }
 ],
 "metadata": {
  "interpreter": {
   "hash": "b7bb7be2cb5d4e8f1a78a37158366774c29942f331e47d04c2ec91199309067f"
  },
  "jupytext": {
   "formats": "ipynb,py:percent"
  },
  "kernelspec": {
   "display_name": "Python 3.10.12 64-bit ('3.10.12-std')",
   "language": "python",
   "name": "python3"
  },
  "language_info": {
   "codemirror_mode": {
    "name": "ipython",
    "version": 3
   },
   "file_extension": ".py",
   "mimetype": "text/x-python",
   "name": "python",
   "nbconvert_exporter": "python",
   "pygments_lexer": "ipython3",
   "version": "3.10.12"
  }
 },
 "nbformat": 4,
 "nbformat_minor": 2
}
