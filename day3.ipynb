{
 "cells": [
  {
   "cell_type": "code",
   "execution_count": 239,
   "metadata": {},
   "outputs": [
    {
     "name": "stdout",
     "output_type": "stream",
     "text": [
      ".........232.633.......................803..........................361................192............539.................973.221...340.....\n",
      "\n"
     ]
    }
   ],
   "source": [
    "filename = \"day3_input.txt\"\n",
    "# filename = \"day3_example.txt\"\n",
    "\n",
    "\n",
    "with open(filename, \"r\") as f:\n",
    "    lines = f.readlines()\n",
    "print(lines[0])\n",
    "lines = ['...' + line.strip() + '...' for line in lines]\n",
    "lines.insert(0, '.' * len(lines[0]))\n",
    "lines.append('.' * len(lines[0]))"
   ]
  },
  {
   "cell_type": "code",
   "execution_count": 240,
   "metadata": {},
   "outputs": [
    {
     "name": "stdout",
     "output_type": "stream",
     "text": [
      "['#', '$', '%', '&', '*', '+', '-', '.', '/', '0', '1', '2', '3', '4', '5', '6', '7', '8', '9', '=', '@']\n"
     ]
    }
   ],
   "source": [
    "chars = set()\n",
    "for line in lines:\n",
    "    chars.update(set(line))\n",
    "print(sorted(chars))"
   ]
  },
  {
   "cell_type": "markdown",
   "metadata": {},
   "source": [
    "# Part 1"
   ]
  },
  {
   "cell_type": "code",
   "execution_count": 241,
   "metadata": {},
   "outputs": [],
   "source": [
    "import re\n",
    "\n",
    "def ints_in_line(s):\n",
    "    return list(map(int, re.findall(r\"\\d+\", s)))"
   ]
  },
  {
   "cell_type": "code",
   "execution_count": 242,
   "metadata": {},
   "outputs": [],
   "source": [
    "ints = {}\n",
    "for row, line in enumerate(lines):\n",
    "    temp_line = line\n",
    "    row_ints = ints_in_line(line)\n",
    "    for n in row_ints:\n",
    "        idx = temp_line.find(str(n))\n",
    "        ints[(row, idx)] = n\n",
    "        temp_line = temp_line.replace(str(n), '.' * len(str(n)), 1)"
   ]
  },
  {
   "cell_type": "code",
   "execution_count": 245,
   "metadata": {},
   "outputs": [],
   "source": [
    "def safe_check(r, c):\n",
    "    if r < 0 or c < 0 or c > len(lines[0])-1:\n",
    "        return False\n",
    "    try:\n",
    "        if lines[r][c] not in ['0', '1', '2', '3', '4', '5', '6', '7', '8', '9', '.']:\n",
    "            print(r,c,lines[r][c])\n",
    "            return True\n",
    "    except IndexError:\n",
    "        return False\n",
    "        \n",
    "def unsafe_check(r, c):\n",
    "    return lines[r][c] not in ['0', '1', '2', '3', '4', '5', '6', '7', '8', '9', '.']\n",
    "\n",
    "\n",
    "def symbol_nearby(row, col, span):\n",
    "    for i in range(col-1, col+span+1):\n",
    "        if unsafe_check(row-1, i) or unsafe_check(row+1, i):\n",
    "            return True\n",
    "    if unsafe_check(row, col-1) or unsafe_check(row, col+span):\n",
    "        return True\n",
    "    return False"
   ]
  },
  {
   "cell_type": "code",
   "execution_count": 246,
   "metadata": {},
   "outputs": [
    {
     "name": "stdout",
     "output_type": "stream",
     "text": [
      "540212\n"
     ]
    }
   ],
   "source": [
    "sum = 0\n",
    "for k, v in ints.items():\n",
    "    row, col = k\n",
    "    span = len(str(v))\n",
    "    if symbol_nearby(row, col, span):\n",
    "        sum += v\n",
    "print(sum)\n",
    "    "
   ]
  },
  {
   "cell_type": "markdown",
   "metadata": {},
   "source": [
    "# Part 2"
   ]
  },
  {
   "cell_type": "code",
   "execution_count": 247,
   "metadata": {},
   "outputs": [],
   "source": [
    "ints = {}\n",
    "for row, line in enumerate(lines):\n",
    "    temp_line = line\n",
    "    row_ints = ints_in_line(line)\n",
    "    for n in row_ints:\n",
    "        idx = temp_line.find(str(n))\n",
    "        ints[(row, idx)] = n\n",
    "        temp_line = temp_line.replace(str(n), '.' * len(str(n)), 1)\n"
   ]
  },
  {
   "cell_type": "code",
   "execution_count": 252,
   "metadata": {},
   "outputs": [],
   "source": [
    "        \n",
    "def unsafe_check(r, c):\n",
    "    return lines[r][c] == \"*\"\n",
    "\n",
    "\n",
    "def check_and_set(r, c, v, stars):\n",
    "    if unsafe_check(r, c):\n",
    "        stars[(r, c)].append(v)\n",
    "\n",
    "\n",
    "def set_nearby_stars(row, col, span, v, stars):\n",
    "    for i in range(col-1, col+span+1):\n",
    "        check_and_set(row-1, i, v, stars)\n",
    "        check_and_set(row+1, i, v, stars)\n",
    "    check_and_set(row, col-1, v, stars)\n",
    "    check_and_set(row, col+span, v, stars)"
   ]
  },
  {
   "cell_type": "code",
   "execution_count": 253,
   "metadata": {},
   "outputs": [],
   "source": [
    "from collections import defaultdict\n",
    "\n",
    "stars = defaultdict(list)\n",
    "\n",
    "sum = 0\n",
    "for k, v in ints.items():\n",
    "    row, col = k\n",
    "    span = len(str(v))\n",
    "    set_nearby_stars(row, col, span, v, stars)"
   ]
  },
  {
   "cell_type": "code",
   "execution_count": 254,
   "metadata": {},
   "outputs": [
    {
     "name": "stdout",
     "output_type": "stream",
     "text": [
      "87605697\n"
     ]
    }
   ],
   "source": [
    "sum = 0\n",
    "for coord, part_nums in stars.items():\n",
    "    if len(part_nums) > 1:\n",
    "        sum += part_nums[0] * part_nums[1]\n",
    "print(sum)"
   ]
  },
  {
   "cell_type": "code",
   "execution_count": null,
   "metadata": {},
   "outputs": [],
   "source": []
  }
 ],
 "metadata": {
  "interpreter": {
   "hash": "31f2aee4e71d21fbe5cf8b01ff0e069b9275f58929596ceb00d14d90e3e16cd6"
  },
  "kernelspec": {
   "display_name": "Python 3.8.9 64-bit",
   "language": "python",
   "name": "python3"
  },
  "language_info": {
   "codemirror_mode": {
    "name": "ipython",
    "version": 3
   },
   "file_extension": ".py",
   "mimetype": "text/x-python",
   "name": "python",
   "nbconvert_exporter": "python",
   "pygments_lexer": "ipython3",
   "version": "3.10.12"
  },
  "orig_nbformat": 4
 },
 "nbformat": 4,
 "nbformat_minor": 2
}
