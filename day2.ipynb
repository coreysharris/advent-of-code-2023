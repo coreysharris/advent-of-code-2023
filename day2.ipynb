{
 "cells": [
  {
   "cell_type": "code",
   "execution_count": null,
   "metadata": {},
   "outputs": [],
   "source": [
    "with open(\"day2_input.txt\", \"r\") as f:\n",
    "    games = f.readlines()\n",
    "print(games[0])"
   ]
  },
  {
   "cell_type": "markdown",
   "metadata": {},
   "source": [
    "# Part 1"
   ]
  },
  {
   "cell_type": "code",
   "execution_count": null,
   "metadata": {},
   "outputs": [],
   "source": [
    "\n",
    "limits = {\"red\": 12, \"green\": 13, \"blue\": 14}"
   ]
  },
  {
   "cell_type": "code",
   "execution_count": null,
   "metadata": {},
   "outputs": [],
   "source": [
    "def get_sets(s):\n",
    "    _, sets = [x.strip() for x in s.split(\":\")]\n",
    "    sets = [x.strip() for x in sets.split(\";\")]\n",
    "    sets = [[x.strip() for x in set_.split(\",\")] for set_ in sets]\n",
    "    return [\n",
    "        {color.strip(): int(num.strip()) for num, color in [x.split() for x in set_]} for set_ in sets\n",
    "    ]"
   ]
  },
  {
   "cell_type": "code",
   "execution_count": null,
   "metadata": {},
   "outputs": [],
   "source": [
    "possible_game_ids = []\n",
    "for game_id, game in enumerate(games, start=1):\n",
    "    sets = get_sets(game)\n",
    "    possible = True\n",
    "    for set_ in sets:\n",
    "        for color, num in set_.items():\n",
    "            if num > limits[color]:\n",
    "                possible = False\n",
    "                break\n",
    "    if possible:\n",
    "        possible_game_ids.append(game_id)\n",
    "            \n",
    "sum(possible_game_ids)"
   ]
  },
  {
   "cell_type": "markdown",
   "metadata": {},
   "source": [
    "# Part 2"
   ]
  },
  {
   "cell_type": "code",
   "execution_count": null,
   "metadata": {},
   "outputs": [],
   "source": [
    "from functools import reduce\n",
    "from operator import mul"
   ]
  },
  {
   "cell_type": "code",
   "execution_count": null,
   "metadata": {},
   "outputs": [],
   "source": [
    "game_powers = []\n",
    "for game_number, game in enumerate(games, start=1):\n",
    "    sets = get_sets(game)\n",
    "    mins = {\"red\": 0, \"green\": 0, \"blue\": 0}\n",
    "    for set_ in sets:\n",
    "        for color, num in set_.items():\n",
    "            mins[color] = max(mins[color], num)\n",
    "    power = reduce(mul, mins.values())\n",
    "    game_powers.append(power)\n",
    "\n",
    "sum(game_powers)"
   ]
  }
 ],
 "metadata": {
  "interpreter": {
   "hash": "31f2aee4e71d21fbe5cf8b01ff0e069b9275f58929596ceb00d14d90e3e16cd6"
  },
  "kernelspec": {
   "display_name": "Python 3.8.9 64-bit",
   "language": "python",
   "name": "python3"
  },
  "language_info": {
   "codemirror_mode": {
    "name": "ipython",
    "version": 3
   },
   "file_extension": ".py",
   "mimetype": "text/x-python",
   "name": "python",
   "nbconvert_exporter": "python",
   "pygments_lexer": "ipython3",
   "version": "3.10.12"
  },
  "orig_nbformat": 4
 },
 "nbformat": 4,
 "nbformat_minor": 2
}
